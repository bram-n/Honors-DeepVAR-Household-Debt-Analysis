{
 "cells": [
  {
   "cell_type": "markdown",
   "id": "4fc40893-beaf-4c3e-9f08-789c5023a8a9",
   "metadata": {},
   "source": [
    "## Get Summary Statistics"
   ]
  },
  {
   "cell_type": "code",
   "execution_count": 5,
   "id": "045298af-9901-4f70-851c-7778dea1aeab",
   "metadata": {},
   "outputs": [],
   "source": [
    "import pandas as pd"
   ]
  },
  {
   "cell_type": "code",
   "execution_count": 6,
   "id": "c62578b7-b178-4b31-b689-08ab15f85d75",
   "metadata": {},
   "outputs": [
    {
     "name": "stdout",
     "output_type": "stream",
     "text": [
      "\\begin{tabular}{lrrrrrrrr}\n",
      "\\toprule\n",
      " & count & mean & std & min & 25% & 50% & 75% & max \\\\\n",
      "\\midrule\n",
      "private_debt & 4765.00000 & 88.17279 & 51.59001 & 12.30000 & 56.20000 & 79.60000 & 107.70000 & 370.10000 \\\\\n",
      "household_debt & 4765.00000 & 53.88753 & 29.39850 & 1.80000 & 34.00000 & 51.10000 & 69.70000 & 136.80000 \\\\\n",
      "CPI & 4765.00000 & 108.63139 & 261.57059 & 6.48000 & 80.27921 & 98.26538 & 110.52808 & 13003.79390 \\\\\n",
      "exchange_rate & 4765.00000 & 105.74075 & 18.01777 & 57.74000 & 96.85500 & 101.47167 & 111.72333 & 226.04000 \\\\\n",
      "GDP & 4765.00000 & 16199618.38613 & 66566199.88756 & 5735.97072 & 146659.09310 & 383125.81250 & 982719.43090 & 572950976.00000 \\\\\n",
      "\\bottomrule\n",
      "\\end{tabular}\n",
      "\n"
     ]
    }
   ],
   "source": [
    "df = pd.read_csv('/Users/bram/Desktop/Honors Draft for Reviewers/Honors-DeepVAR-Household-Debt-Analysis/Results/Data/WithoutPolicyRate.csv')\n",
    "\n",
    "df.describe()\n",
    "\n",
    "summary_stats = df.describe().transpose()\n",
    "\n",
    "latex_table = summary_stats.to_latex(float_format=\"%.5f\")\n",
    "\n",
    "print(latex_table)\n"
   ]
  }
 ],
 "metadata": {
  "kernelspec": {
   "display_name": "Python 3 (ipykernel)",
   "language": "python",
   "name": "python3"
  },
  "language_info": {
   "codemirror_mode": {
    "name": "ipython",
    "version": 3
   },
   "file_extension": ".py",
   "mimetype": "text/x-python",
   "name": "python",
   "nbconvert_exporter": "python",
   "pygments_lexer": "ipython3",
   "version": "3.10.2"
  }
 },
 "nbformat": 4,
 "nbformat_minor": 5
}
